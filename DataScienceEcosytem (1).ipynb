{
 "cells": [
  {
   "cell_type": "markdown",
   "id": "6b4b5019",
   "metadata": {},
   "source": [
    "# Data Science Tools and Ecosystem"
   ]
  },
  {
   "cell_type": "markdown",
   "id": "d98b8b3f",
   "metadata": {},
   "source": [
    "## Author\n",
    "Blaine Booher"
   ]
  },
  {
   "cell_type": "markdown",
   "id": "0f3f3907",
   "metadata": {},
   "source": [
    "In this notebook, Data Science Tools and Ecosystem or sumarized."
   ]
  },
  {
   "cell_type": "markdown",
   "id": "f14b0e59",
   "metadata": {},
   "source": [
    "**Objectives:**\n",
    "- List Popular Languages\n",
    "- Commonly Used Libraries\n",
    "- Evaluating Arithmetic Epressions"
   ]
  },
  {
   "cell_type": "markdown",
   "id": "c42b1de8",
   "metadata": {},
   "source": [
    "Some of the popular languages that Data Scientist use are:\n",
    " - Python\n",
    " - R\n",
    " - SQL\n",
    " - Java\n",
    " - C++"
   ]
  },
  {
   "cell_type": "markdown",
   "id": "726277fd",
   "metadata": {},
   "source": [
    "Some of the commonly used libraries used by Data Scientist include:\n",
    "- Matplotlib\n",
    "- Pandas\n",
    "- Tensorflow\n",
    "- NumPy\n",
    "- PyTorch"
   ]
  },
  {
   "cell_type": "markdown",
   "id": "c8e38288",
   "metadata": {},
   "source": [
    "| Data Sciece Tools|\n",
    "|------------------|\n",
    "|GitLab|\n",
    "|VS Code|\n",
    "|Prisma|"
   ]
  },
  {
   "cell_type": "markdown",
   "id": "7978e48c",
   "metadata": {},
   "source": [
    "### Below are a few examples of evaluating arithmetic expressions in Python."
   ]
  },
  {
   "cell_type": "code",
   "execution_count": 6,
   "id": "45e30b67",
   "metadata": {},
   "outputs": [
    {
     "data": {
      "text/plain": [
       "17"
      ]
     },
     "execution_count": 6,
     "metadata": {},
     "output_type": "execute_result"
    }
   ],
   "source": [
    "#This is a simple arithmetic expression to multiply then add intergers.\n",
    "(3*4)+5"
   ]
  },
  {
   "cell_type": "code",
   "execution_count": 10,
   "id": "96f0ebad",
   "metadata": {},
   "outputs": [
    {
     "data": {
      "text/plain": [
       "3.3333333333333335"
      ]
     },
     "execution_count": 10,
     "metadata": {},
     "output_type": "execute_result"
    }
   ],
   "source": [
    "#This will convert 200 minutes to hours by divding by 6\n",
    "200/60"
   ]
  },
  {
   "cell_type": "code",
   "execution_count": null,
   "id": "73f67cab",
   "metadata": {},
   "outputs": [],
   "source": []
  }
 ],
 "metadata": {
  "kernelspec": {
   "display_name": "Python 3 (ipykernel)",
   "language": "python",
   "name": "python3"
  },
  "language_info": {
   "codemirror_mode": {
    "name": "ipython",
    "version": 3
   },
   "file_extension": ".py",
   "mimetype": "text/x-python",
   "name": "python",
   "nbconvert_exporter": "python",
   "pygments_lexer": "ipython3",
   "version": "3.11.4"
  }
 },
 "nbformat": 4,
 "nbformat_minor": 5
}
